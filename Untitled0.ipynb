{
  "nbformat": 4,
  "nbformat_minor": 0,
  "metadata": {
    "colab": {
      "provenance": [],
      "include_colab_link": true
    },
    "kernelspec": {
      "name": "python3",
      "display_name": "Python 3"
    },
    "language_info": {
      "name": "python"
    }
  },
  "cells": [
    {
      "cell_type": "markdown",
      "metadata": {
        "id": "view-in-github",
        "colab_type": "text"
      },
      "source": [
        "<a href=\"https://colab.research.google.com/github/NotMatque/stat-project/blob/MG/Untitled0.ipynb\" target=\"_parent\"><img src=\"https://colab.research.google.com/assets/colab-badge.svg\" alt=\"Open In Colab\"/></a>"
      ]
    },
    {
      "cell_type": "markdown",
      "source": [
        "# Wpływ parametrów technicznych oraz poziomu eksploatacji samochodów spalinowych na ich cenę na rynku wtórnym\n",
        "## Opis danych w projekcie\n",
        "Projekt ten jest wykonywany na zbiorze danych *cars_dataset.csv*, zawierającym następujące kolumny:\n",
        "1. *model* - nazwa modelu samochodu\n",
        "2. *year* - rok produkcji\n",
        "3. *price* - cena ponownej sprzedaży \\[£]\n",
        "4. *transmission* - rodzaj skrzyni biegów\n",
        "5. *mileage* - przebieg \\[mile]\n",
        "6. *fuelType* - typ paliwa\n",
        "7. *tax* - opodatkowanie związane z emisją $CO_2$ \\[£]\n",
        "8. *mpg* - spalanie \\[mile/galon paliwa]\n",
        "9. *engineSize* - rozmiar silnika \\[litr]\n",
        "10. *Make* - marka samochodu\n",
        "\n",
        "Powyższe zmienne można skategoryzować w następujący sposób jako zmienne ilościowe i jakościowe:\n",
        "- Zmienne ilościowe\n",
        "1. *year*\n",
        "2. *price*\n",
        "3. *mileage*\n",
        "4. *tax*\n",
        "5. *mpg*\n",
        "6. *engineSize*\n",
        "- Zmienne jakościowe\n",
        "1. *model*\n",
        "2. *transmission*\n",
        "3. *fuelType*\n",
        "4. *make*\n",
        "\n",
        "## Cele projektu\n",
        "1. Analiza danych i ich opis statystyczny\n",
        "2. Sprawdzenie rozkładu zmiennych, ze szczególnością rozkładu normalnego\n",
        "3. Stworzenie modelu regresji liniowej do przewidywania zależności **ceny pojazdu** od jego specyfikacji oraz poziomu eksploatacji"
      ],
      "metadata": {
        "id": "4uXsS75ZmPdS"
      }
    },
    {
      "cell_type": "markdown",
      "source": [
        "## Pozyskanie zbioru i przygotowanie danych do analizy\n",
        "Zbiór *data* zawiera 72435 zapisów podzielonych na 10 kolumn. Nie ma w nim żadnych wartości błędnych, ani *NA*."
      ],
      "metadata": {
        "id": "pPL2EEPb0-yC"
      }
    },
    {
      "cell_type": "code",
      "source": [
        "import pandas as pd\n",
        "import numpy as np\n",
        "import matplotlib.pyplot as plt\n",
        "from scipy.stats import shapiro\n",
        "import seaborn as sns\n",
        "from sklearn.model_selection import train_test_split\n",
        "from sklearn.linear_model import LinearRegression\n",
        "from sklearn.metrics import r2_score, mean_absolute_error, mean_squared_error"
      ],
      "metadata": {
        "id": "gEmM24sR1K39"
      },
      "execution_count": 55,
      "outputs": []
    },
    {
      "cell_type": "code",
      "source": [
        "!git clone https://github.com/NotMatque/stat-project"
      ],
      "metadata": {
        "id": "igro7Lzt1NJf",
        "outputId": "8361ba66-bdde-4036-afa7-11e777574856",
        "colab": {
          "base_uri": "https://localhost:8080/"
        }
      },
      "execution_count": 38,
      "outputs": [
        {
          "output_type": "stream",
          "name": "stdout",
          "text": [
            "fatal: destination path 'stat-project' already exists and is not an empty directory.\n"
          ]
        }
      ]
    },
    {
      "cell_type": "code",
      "source": [
        "data = pd.read_csv('stat-project/cars_dataset.csv', sep=',')\n",
        "data.info();"
      ],
      "metadata": {
        "id": "Fms2cxT11Pjq",
        "outputId": "8f831ec2-7f32-4d42-dac5-8326708bea46",
        "colab": {
          "base_uri": "https://localhost:8080/"
        }
      },
      "execution_count": 39,
      "outputs": [
        {
          "output_type": "stream",
          "name": "stdout",
          "text": [
            "<class 'pandas.core.frame.DataFrame'>\n",
            "RangeIndex: 72435 entries, 0 to 72434\n",
            "Data columns (total 10 columns):\n",
            " #   Column        Non-Null Count  Dtype  \n",
            "---  ------        --------------  -----  \n",
            " 0   model         72435 non-null  object \n",
            " 1   year          72435 non-null  int64  \n",
            " 2   price         72435 non-null  int64  \n",
            " 3   transmission  72435 non-null  object \n",
            " 4   mileage       72435 non-null  int64  \n",
            " 5   fuelType      72435 non-null  object \n",
            " 6   tax           72435 non-null  float64\n",
            " 7   mpg           72435 non-null  float64\n",
            " 8   engineSize    72435 non-null  float64\n",
            " 9   Make          72435 non-null  object \n",
            "dtypes: float64(3), int64(3), object(4)\n",
            "memory usage: 5.5+ MB\n"
          ]
        }
      ]
    },
    {
      "cell_type": "code",
      "source": [
        "(data.isna()).sum()"
      ],
      "metadata": {
        "id": "a18rXbSt-4p9",
        "outputId": "5fa2dc9b-1e1d-4d2d-e113-13cc03be6e37",
        "colab": {
          "base_uri": "https://localhost:8080/"
        }
      },
      "execution_count": 40,
      "outputs": [
        {
          "output_type": "execute_result",
          "data": {
            "text/plain": [
              "model           0\n",
              "year            0\n",
              "price           0\n",
              "transmission    0\n",
              "mileage         0\n",
              "fuelType        0\n",
              "tax             0\n",
              "mpg             0\n",
              "engineSize      0\n",
              "Make            0\n",
              "dtype: int64"
            ]
          },
          "metadata": {},
          "execution_count": 40
        }
      ]
    },
    {
      "cell_type": "markdown",
      "source": [
        "## Analiza danych\n",
        "Najpierw zostaną rozpatrzoen kolumnami o wartościach numerycznych. Wpływ zmiennych kategorycznych będzie opisany niżej za pomocą odpowiednich wykresów.\n"
      ],
      "metadata": {
        "id": "RfujMETVvL0l"
      }
    },
    {
      "cell_type": "markdown",
      "source": [
        "### Analiza kolumn o zmiennych ilościowych"
      ],
      "metadata": {
        "id": "rR7iLiJkimgu"
      }
    },
    {
      "cell_type": "code",
      "source": [
        "data.describe()"
      ],
      "metadata": {
        "id": "1dLYmyoCBy-N",
        "outputId": "d22029d4-4ba2-41bb-f069-86f7e7485149",
        "colab": {
          "base_uri": "https://localhost:8080/",
          "height": 300
        }
      },
      "execution_count": 41,
      "outputs": [
        {
          "output_type": "execute_result",
          "data": {
            "text/plain": [
              "               year          price        mileage           tax           mpg  \\\n",
              "count  72435.000000   72435.000000   72435.000000  72435.000000  72435.000000   \n",
              "mean    2017.073666   16580.158708   23176.517057    116.953407     55.852480   \n",
              "std        2.101252    9299.028754   21331.515562     64.045533     17.114391   \n",
              "min     1996.000000     495.000000       1.000000      0.000000      0.300000   \n",
              "25%     2016.000000   10175.000000    7202.500000     30.000000     47.900000   \n",
              "50%     2017.000000   14495.000000   17531.000000    145.000000     55.400000   \n",
              "75%     2019.000000   20361.000000   32449.000000    145.000000     62.800000   \n",
              "max     2020.000000  145000.000000  323000.000000    580.000000    470.800000   \n",
              "\n",
              "         engineSize  \n",
              "count  72435.000000  \n",
              "mean       1.635650  \n",
              "std        0.561535  \n",
              "min        0.000000  \n",
              "25%        1.200000  \n",
              "50%        1.600000  \n",
              "75%        2.000000  \n",
              "max        6.600000  "
            ],
            "text/html": [
              "\n",
              "  <div id=\"df-f87c9ce5-a0e1-4f15-b6b9-d155af4cf594\" class=\"colab-df-container\">\n",
              "    <div>\n",
              "<style scoped>\n",
              "    .dataframe tbody tr th:only-of-type {\n",
              "        vertical-align: middle;\n",
              "    }\n",
              "\n",
              "    .dataframe tbody tr th {\n",
              "        vertical-align: top;\n",
              "    }\n",
              "\n",
              "    .dataframe thead th {\n",
              "        text-align: right;\n",
              "    }\n",
              "</style>\n",
              "<table border=\"1\" class=\"dataframe\">\n",
              "  <thead>\n",
              "    <tr style=\"text-align: right;\">\n",
              "      <th></th>\n",
              "      <th>year</th>\n",
              "      <th>price</th>\n",
              "      <th>mileage</th>\n",
              "      <th>tax</th>\n",
              "      <th>mpg</th>\n",
              "      <th>engineSize</th>\n",
              "    </tr>\n",
              "  </thead>\n",
              "  <tbody>\n",
              "    <tr>\n",
              "      <th>count</th>\n",
              "      <td>72435.000000</td>\n",
              "      <td>72435.000000</td>\n",
              "      <td>72435.000000</td>\n",
              "      <td>72435.000000</td>\n",
              "      <td>72435.000000</td>\n",
              "      <td>72435.000000</td>\n",
              "    </tr>\n",
              "    <tr>\n",
              "      <th>mean</th>\n",
              "      <td>2017.073666</td>\n",
              "      <td>16580.158708</td>\n",
              "      <td>23176.517057</td>\n",
              "      <td>116.953407</td>\n",
              "      <td>55.852480</td>\n",
              "      <td>1.635650</td>\n",
              "    </tr>\n",
              "    <tr>\n",
              "      <th>std</th>\n",
              "      <td>2.101252</td>\n",
              "      <td>9299.028754</td>\n",
              "      <td>21331.515562</td>\n",
              "      <td>64.045533</td>\n",
              "      <td>17.114391</td>\n",
              "      <td>0.561535</td>\n",
              "    </tr>\n",
              "    <tr>\n",
              "      <th>min</th>\n",
              "      <td>1996.000000</td>\n",
              "      <td>495.000000</td>\n",
              "      <td>1.000000</td>\n",
              "      <td>0.000000</td>\n",
              "      <td>0.300000</td>\n",
              "      <td>0.000000</td>\n",
              "    </tr>\n",
              "    <tr>\n",
              "      <th>25%</th>\n",
              "      <td>2016.000000</td>\n",
              "      <td>10175.000000</td>\n",
              "      <td>7202.500000</td>\n",
              "      <td>30.000000</td>\n",
              "      <td>47.900000</td>\n",
              "      <td>1.200000</td>\n",
              "    </tr>\n",
              "    <tr>\n",
              "      <th>50%</th>\n",
              "      <td>2017.000000</td>\n",
              "      <td>14495.000000</td>\n",
              "      <td>17531.000000</td>\n",
              "      <td>145.000000</td>\n",
              "      <td>55.400000</td>\n",
              "      <td>1.600000</td>\n",
              "    </tr>\n",
              "    <tr>\n",
              "      <th>75%</th>\n",
              "      <td>2019.000000</td>\n",
              "      <td>20361.000000</td>\n",
              "      <td>32449.000000</td>\n",
              "      <td>145.000000</td>\n",
              "      <td>62.800000</td>\n",
              "      <td>2.000000</td>\n",
              "    </tr>\n",
              "    <tr>\n",
              "      <th>max</th>\n",
              "      <td>2020.000000</td>\n",
              "      <td>145000.000000</td>\n",
              "      <td>323000.000000</td>\n",
              "      <td>580.000000</td>\n",
              "      <td>470.800000</td>\n",
              "      <td>6.600000</td>\n",
              "    </tr>\n",
              "  </tbody>\n",
              "</table>\n",
              "</div>\n",
              "    <div class=\"colab-df-buttons\">\n",
              "\n",
              "  <div class=\"colab-df-container\">\n",
              "    <button class=\"colab-df-convert\" onclick=\"convertToInteractive('df-f87c9ce5-a0e1-4f15-b6b9-d155af4cf594')\"\n",
              "            title=\"Convert this dataframe to an interactive table.\"\n",
              "            style=\"display:none;\">\n",
              "\n",
              "  <svg xmlns=\"http://www.w3.org/2000/svg\" height=\"24px\" viewBox=\"0 -960 960 960\">\n",
              "    <path d=\"M120-120v-720h720v720H120Zm60-500h600v-160H180v160Zm220 220h160v-160H400v160Zm0 220h160v-160H400v160ZM180-400h160v-160H180v160Zm440 0h160v-160H620v160ZM180-180h160v-160H180v160Zm440 0h160v-160H620v160Z\"/>\n",
              "  </svg>\n",
              "    </button>\n",
              "\n",
              "  <style>\n",
              "    .colab-df-container {\n",
              "      display:flex;\n",
              "      gap: 12px;\n",
              "    }\n",
              "\n",
              "    .colab-df-convert {\n",
              "      background-color: #E8F0FE;\n",
              "      border: none;\n",
              "      border-radius: 50%;\n",
              "      cursor: pointer;\n",
              "      display: none;\n",
              "      fill: #1967D2;\n",
              "      height: 32px;\n",
              "      padding: 0 0 0 0;\n",
              "      width: 32px;\n",
              "    }\n",
              "\n",
              "    .colab-df-convert:hover {\n",
              "      background-color: #E2EBFA;\n",
              "      box-shadow: 0px 1px 2px rgba(60, 64, 67, 0.3), 0px 1px 3px 1px rgba(60, 64, 67, 0.15);\n",
              "      fill: #174EA6;\n",
              "    }\n",
              "\n",
              "    .colab-df-buttons div {\n",
              "      margin-bottom: 4px;\n",
              "    }\n",
              "\n",
              "    [theme=dark] .colab-df-convert {\n",
              "      background-color: #3B4455;\n",
              "      fill: #D2E3FC;\n",
              "    }\n",
              "\n",
              "    [theme=dark] .colab-df-convert:hover {\n",
              "      background-color: #434B5C;\n",
              "      box-shadow: 0px 1px 3px 1px rgba(0, 0, 0, 0.15);\n",
              "      filter: drop-shadow(0px 1px 2px rgba(0, 0, 0, 0.3));\n",
              "      fill: #FFFFFF;\n",
              "    }\n",
              "  </style>\n",
              "\n",
              "    <script>\n",
              "      const buttonEl =\n",
              "        document.querySelector('#df-f87c9ce5-a0e1-4f15-b6b9-d155af4cf594 button.colab-df-convert');\n",
              "      buttonEl.style.display =\n",
              "        google.colab.kernel.accessAllowed ? 'block' : 'none';\n",
              "\n",
              "      async function convertToInteractive(key) {\n",
              "        const element = document.querySelector('#df-f87c9ce5-a0e1-4f15-b6b9-d155af4cf594');\n",
              "        const dataTable =\n",
              "          await google.colab.kernel.invokeFunction('convertToInteractive',\n",
              "                                                    [key], {});\n",
              "        if (!dataTable) return;\n",
              "\n",
              "        const docLinkHtml = 'Like what you see? Visit the ' +\n",
              "          '<a target=\"_blank\" href=https://colab.research.google.com/notebooks/data_table.ipynb>data table notebook</a>'\n",
              "          + ' to learn more about interactive tables.';\n",
              "        element.innerHTML = '';\n",
              "        dataTable['output_type'] = 'display_data';\n",
              "        await google.colab.output.renderOutput(dataTable, element);\n",
              "        const docLink = document.createElement('div');\n",
              "        docLink.innerHTML = docLinkHtml;\n",
              "        element.appendChild(docLink);\n",
              "      }\n",
              "    </script>\n",
              "  </div>\n",
              "\n",
              "\n",
              "<div id=\"df-0e47597b-a964-4ae3-8b1c-5375a0de2e85\">\n",
              "  <button class=\"colab-df-quickchart\" onclick=\"quickchart('df-0e47597b-a964-4ae3-8b1c-5375a0de2e85')\"\n",
              "            title=\"Suggest charts\"\n",
              "            style=\"display:none;\">\n",
              "\n",
              "<svg xmlns=\"http://www.w3.org/2000/svg\" height=\"24px\"viewBox=\"0 0 24 24\"\n",
              "     width=\"24px\">\n",
              "    <g>\n",
              "        <path d=\"M19 3H5c-1.1 0-2 .9-2 2v14c0 1.1.9 2 2 2h14c1.1 0 2-.9 2-2V5c0-1.1-.9-2-2-2zM9 17H7v-7h2v7zm4 0h-2V7h2v10zm4 0h-2v-4h2v4z\"/>\n",
              "    </g>\n",
              "</svg>\n",
              "  </button>\n",
              "\n",
              "<style>\n",
              "  .colab-df-quickchart {\n",
              "      --bg-color: #E8F0FE;\n",
              "      --fill-color: #1967D2;\n",
              "      --hover-bg-color: #E2EBFA;\n",
              "      --hover-fill-color: #174EA6;\n",
              "      --disabled-fill-color: #AAA;\n",
              "      --disabled-bg-color: #DDD;\n",
              "  }\n",
              "\n",
              "  [theme=dark] .colab-df-quickchart {\n",
              "      --bg-color: #3B4455;\n",
              "      --fill-color: #D2E3FC;\n",
              "      --hover-bg-color: #434B5C;\n",
              "      --hover-fill-color: #FFFFFF;\n",
              "      --disabled-bg-color: #3B4455;\n",
              "      --disabled-fill-color: #666;\n",
              "  }\n",
              "\n",
              "  .colab-df-quickchart {\n",
              "    background-color: var(--bg-color);\n",
              "    border: none;\n",
              "    border-radius: 50%;\n",
              "    cursor: pointer;\n",
              "    display: none;\n",
              "    fill: var(--fill-color);\n",
              "    height: 32px;\n",
              "    padding: 0;\n",
              "    width: 32px;\n",
              "  }\n",
              "\n",
              "  .colab-df-quickchart:hover {\n",
              "    background-color: var(--hover-bg-color);\n",
              "    box-shadow: 0 1px 2px rgba(60, 64, 67, 0.3), 0 1px 3px 1px rgba(60, 64, 67, 0.15);\n",
              "    fill: var(--button-hover-fill-color);\n",
              "  }\n",
              "\n",
              "  .colab-df-quickchart-complete:disabled,\n",
              "  .colab-df-quickchart-complete:disabled:hover {\n",
              "    background-color: var(--disabled-bg-color);\n",
              "    fill: var(--disabled-fill-color);\n",
              "    box-shadow: none;\n",
              "  }\n",
              "\n",
              "  .colab-df-spinner {\n",
              "    border: 2px solid var(--fill-color);\n",
              "    border-color: transparent;\n",
              "    border-bottom-color: var(--fill-color);\n",
              "    animation:\n",
              "      spin 1s steps(1) infinite;\n",
              "  }\n",
              "\n",
              "  @keyframes spin {\n",
              "    0% {\n",
              "      border-color: transparent;\n",
              "      border-bottom-color: var(--fill-color);\n",
              "      border-left-color: var(--fill-color);\n",
              "    }\n",
              "    20% {\n",
              "      border-color: transparent;\n",
              "      border-left-color: var(--fill-color);\n",
              "      border-top-color: var(--fill-color);\n",
              "    }\n",
              "    30% {\n",
              "      border-color: transparent;\n",
              "      border-left-color: var(--fill-color);\n",
              "      border-top-color: var(--fill-color);\n",
              "      border-right-color: var(--fill-color);\n",
              "    }\n",
              "    40% {\n",
              "      border-color: transparent;\n",
              "      border-right-color: var(--fill-color);\n",
              "      border-top-color: var(--fill-color);\n",
              "    }\n",
              "    60% {\n",
              "      border-color: transparent;\n",
              "      border-right-color: var(--fill-color);\n",
              "    }\n",
              "    80% {\n",
              "      border-color: transparent;\n",
              "      border-right-color: var(--fill-color);\n",
              "      border-bottom-color: var(--fill-color);\n",
              "    }\n",
              "    90% {\n",
              "      border-color: transparent;\n",
              "      border-bottom-color: var(--fill-color);\n",
              "    }\n",
              "  }\n",
              "</style>\n",
              "\n",
              "  <script>\n",
              "    async function quickchart(key) {\n",
              "      const quickchartButtonEl =\n",
              "        document.querySelector('#' + key + ' button');\n",
              "      quickchartButtonEl.disabled = true;  // To prevent multiple clicks.\n",
              "      quickchartButtonEl.classList.add('colab-df-spinner');\n",
              "      try {\n",
              "        const charts = await google.colab.kernel.invokeFunction(\n",
              "            'suggestCharts', [key], {});\n",
              "      } catch (error) {\n",
              "        console.error('Error during call to suggestCharts:', error);\n",
              "      }\n",
              "      quickchartButtonEl.classList.remove('colab-df-spinner');\n",
              "      quickchartButtonEl.classList.add('colab-df-quickchart-complete');\n",
              "    }\n",
              "    (() => {\n",
              "      let quickchartButtonEl =\n",
              "        document.querySelector('#df-0e47597b-a964-4ae3-8b1c-5375a0de2e85 button');\n",
              "      quickchartButtonEl.style.display =\n",
              "        google.colab.kernel.accessAllowed ? 'block' : 'none';\n",
              "    })();\n",
              "  </script>\n",
              "</div>\n",
              "    </div>\n",
              "  </div>\n"
            ],
            "application/vnd.google.colaboratory.intrinsic+json": {
              "type": "dataframe",
              "summary": "{\n  \"name\": \"data\",\n  \"rows\": 8,\n  \"fields\": [\n    {\n      \"column\": \"year\",\n      \"properties\": {\n        \"dtype\": \"number\",\n        \"std\": 25009.059447046933,\n        \"min\": 2.1012519260701783,\n        \"max\": 72435.0,\n        \"num_unique_values\": 8,\n        \"samples\": [\n          2017.07366604542,\n          2017.0,\n          72435.0\n        ],\n        \"semantic_type\": \"\",\n        \"description\": \"\"\n      }\n    },\n    {\n      \"column\": \"price\",\n      \"properties\": {\n        \"dtype\": \"number\",\n        \"std\": 49183.435194823214,\n        \"min\": 495.0,\n        \"max\": 145000.0,\n        \"num_unique_values\": 8,\n        \"samples\": [\n          16580.158707807,\n          14495.0,\n          72435.0\n        ],\n        \"semantic_type\": \"\",\n        \"description\": \"\"\n      }\n    },\n    {\n      \"column\": \"mileage\",\n      \"properties\": {\n        \"dtype\": \"number\",\n        \"std\": 107629.20117177487,\n        \"min\": 1.0,\n        \"max\": 323000.0,\n        \"num_unique_values\": 8,\n        \"samples\": [\n          23176.5170566715,\n          17531.0,\n          72435.0\n        ],\n        \"semantic_type\": \"\",\n        \"description\": \"\"\n      }\n    },\n    {\n      \"column\": \"tax\",\n      \"properties\": {\n        \"dtype\": \"number\",\n        \"std\": 25555.68455749844,\n        \"min\": 0.0,\n        \"max\": 72435.0,\n        \"num_unique_values\": 7,\n        \"samples\": [\n          72435.0,\n          116.95340650238144,\n          145.0\n        ],\n        \"semantic_type\": \"\",\n        \"description\": \"\"\n      }\n    },\n    {\n      \"column\": \"mpg\",\n      \"properties\": {\n        \"dtype\": \"number\",\n        \"std\": 25574.224378593506,\n        \"min\": 0.3,\n        \"max\": 72435.0,\n        \"num_unique_values\": 8,\n        \"samples\": [\n          55.852480154621375,\n          55.4,\n          72435.0\n        ],\n        \"semantic_type\": \"\",\n        \"description\": \"\"\n      }\n    },\n    {\n      \"column\": \"engineSize\",\n      \"properties\": {\n        \"dtype\": \"number\",\n        \"std\": 25608.95316456897,\n        \"min\": 0.0,\n        \"max\": 72435.0,\n        \"num_unique_values\": 8,\n        \"samples\": [\n          1.6356498930075238,\n          1.6,\n          72435.0\n        ],\n        \"semantic_type\": \"\",\n        \"description\": \"\"\n      }\n    }\n  ]\n}"
            }
          },
          "metadata": {},
          "execution_count": 41
        }
      ]
    },
    {
      "cell_type": "markdown",
      "source": [
        "**Rok produkcji**\n",
        "<br>\n",
        "Samochody w tym zbiorze danych mają rok produkcji w przedziale od 1996 do 2020 roku, przy czym średnia wynosi około 2017 rok. Większość samochodów została wyprodukowana w ostatnich latach, co sugeruje, że dane dotyczą głównie nowszych modeli. Rozkład lat produkcji jest stosunkowo wąski, biorąc pod uwagę odchylenie standardowe wynoszące około 2 lata. Mediana również wynosi 2017 rok, co wskazuje, że połowa samochodów w zbiorze została wyprodukowana po 2017 roku.<br><br>\n",
        "**Cena**\n",
        "<br>\n",
        "Ceny samochodów w tym zbiorze wahają się od 495 do 145000 jednostek waluty. Średnia cena wynosi około 16580 jednostek, a mediana to 14495 jednostek, co sugeruje, że rozkład cen jest prawostronnie skośny, z kilkoma bardzo drogimi samochodami podnoszącymi średnią. Odchylenie standardowe wynoszące około 9300 jednostek wskazuje na dużą zmienność cen w tym zbiorze danych.<br><br>\n",
        "**Przebieg**\n",
        "<br>\n",
        "Przebieg samochodów waha się od 1 do 323000 mil, z średnią wynoszącą około 23176 mil. Ta duża rozpiętość oraz wysokie odchylenie standardowe (około 21331 mil) wskazują na znaczną różnorodność w użytkowaniu samochodów. Mediana przebiegu to 17531 mil, co oznacza, że połowa samochodów ma przebieg mniejszy niż 17531 mil. <br><br>\n",
        "**Podatek**\n",
        "<br>\n",
        "Podatek, który może być interpretowany jako opłata związana z posiadaniem samochodu, wynosi od 0 do 580 jednostek, z średnią wynoszącą około 117 jednostek. Ciekawostką jest, że minimalna wartość podatku to 0, co może wskazywać na pewne samochody zwolnione z opłat. Mediana wynosząca 145 jednostek sugeruje, że połowa samochodów płaci podatek na poziomie 145 jednostek lub mniej.<br><br>\n",
        "**Średnie zużycie paliwa**\n",
        "<br>\n",
        "Średnie zużycie paliwa (mpg - mile na galon) wynosi od 0.3 do 470.8, przy średniej wartości około 55.85 mpg. Wartość minimalna jest bardzo niska, co może wskazywać na błędy w danych lub specyficzne warunki testowe. Mediana wynosi 55.4 mpg, co oznacza, że połowa samochodów w zbiorze danych zużywa mniej niż 55.4 mil na galon.<br><br>\n",
        "**Pojemność silnika**\n",
        "<br>\n",
        "Pojemność silnika samochodów w tym zbiorze wynosi od 0 do 6.6 litra, z średnią wartością około 1.64 litra. Minimalna wartość 0 może wskazywać na błędne dane lub specyficzne typy pojazdów (np. elektryczne). Mediana wynosząca 1.6 litra sugeruje, że połowa samochodów ma pojemność silnika mniejszą niż 1.6 litra.\n",
        "Brakujące dane\n",
        "<br><br>**Podsumowanie**<br>\n",
        "Zbiór danych jest kompletny, co oznacza, że wszystkie 72435 rekordy mają pełne informacje we wszystkich kolumnach. To jest korzystne dla dalszej analizy, ponieważ nie ma potrzeby radzenia sobie z brakującymi wartościami.\n",
        "<br><br>\n",
        "Kolumny w zbiorze danych zawierają różne typy informacji: liczby całkowite (rok produkcji, cena, przebieg), liczby zmiennoprzecinkowe (podatek, średnie zużycie paliwa, pojemność silnika) oraz tekstowe (model, rodzaj skrzyni biegów, rodzaj paliwa, marka samochodu). Ta różnorodność pozwala na przeprowadzenie wszechstronnych analiz, uwzględniających różne aspekty samochodów.\n",
        "<br><br>\n",
        "Podsumowując, dane te przedstawiają szeroką gamę samochodów, głównie nowszych, z dużą zmiennością w przebiegu, cenach, podatkach i zużyciu paliwa. Analiza tych danych może dostarczyć cennych informacji na temat rynku samochodowego i preferencji konsumentów."
      ],
      "metadata": {
        "id": "xYU0ciX-Ft2K"
      }
    },
    {
      "cell_type": "markdown",
      "source": [
        "### Analiza wpływu zmiennych kategorycznych"
      ],
      "metadata": {
        "id": "RJ9mf-N1iwcL"
      }
    },
    {
      "cell_type": "code",
      "source": [
        "fig, axes = plt.subplots(nrows = 1, ncols = 2, figsize = (16,5))\n",
        "\n",
        "axes[0].set_title('Histogram zmiennej cena')\n",
        "axes[0].hist(data['price'], bins = 14, color = 'Gold')\n",
        "axes[0].set_xlabel('Cena')\n",
        "axes[0].set_ylabel('Ilość samochodów')\n",
        "\n",
        "axes[1].set_title('Wykres ramka - wąsy')\n",
        "axes[1].boxplot(data['price'])\n",
        "axes[1].set_xlabel('Samochody')\n",
        "axes[1].set_ylabel('Cena')\n",
        "\n",
        "plt.show()"
      ],
      "metadata": {
        "id": "FW_5RxgqApZl",
        "outputId": "39324453-a4a5-4113-ede4-79b40b3cf958",
        "colab": {
          "base_uri": "https://localhost:8080/",
          "height": 427
        }
      },
      "execution_count": 59,
      "outputs": [
        {
          "output_type": "display_data",
          "data": {
            "text/plain": [
              "<Figure size 1600x500 with 2 Axes>"
            ],
            "image/png": "[encoded data removed]"
          },
          "metadata": {}
        }
      ]
    },
    {
      "cell_type": "code",
      "source": [
        "data['fuelType'].value_counts()"
      ],
      "metadata": {
        "id": "DE3psmcFT8H8",
        "outputId": "ca88f8f1-460c-4430-f9d4-53a33f10f50e",
        "colab": {
          "base_uri": "https://localhost:8080/"
        }
      },
      "execution_count": 43,
      "outputs": [
        {
          "output_type": "execute_result",
          "data": {
            "text/plain": [
              "fuelType\n",
              "Petrol      40370\n",
              "Diesel      28918\n",
              "Hybrid       2903\n",
              "Other         239\n",
              "Electric        5\n",
              "Name: count, dtype: int64"
            ]
          },
          "metadata": {},
          "execution_count": 43
        }
      ]
    },
    {
      "cell_type": "code",
      "source": [
        "fig, axes = plt.subplots(nrows = 1, ncols = 2, figsize = (16,5))\n",
        "\n",
        "axes[0].set_title('Samochody z silnikiem benzynowym')\n",
        "axes[0].hist(data.loc[data['fuelType'] == 'Petrol', 'price'], bins = 40, color = 'Grey')\n",
        "axes[0].set_xlabel('Cena')\n",
        "axes[0].set_ylabel('Ilość samochodów')\n",
        "\n",
        "axes[1].set_title('Samochody z silnikiem diesela')\n",
        "axes[1].hist(data.loc[data['fuelType'] == 'Diesel', 'price'], bins = 40, color = 'Brown')\n",
        "axes[1].set_xlabel('Cena')\n",
        "axes[1].set_ylabel('Ilość samochodów')\n",
        "\n",
        "plt.show()"
      ],
      "metadata": {
        "id": "AEA3IrgXSZDu",
        "outputId": "6ea4cb8f-70e4-4d27-b249-f86d252a2bd7",
        "colab": {
          "base_uri": "https://localhost:8080/",
          "height": 427
        }
      },
      "execution_count": 61,
      "outputs": [
        {
          "output_type": "display_data",
          "data": {
            "text/plain": [
              "<Figure size 1600x500 with 2 Axes>"
            ],
            "image/png": "[encoded data removed]"
          },
          "metadata": {}
        }
      ]
    },
    {
      "cell_type": "markdown",
      "source": [
        "**Samochody z silnikiem benzynowym**\n",
        "\n",
        "Rozkład cen dla samochodów z silnikiem benzynowym pokazuje, że największa liczba samochodów znajduje się w przedziale cenowym od 0 do 20,000. Szczyt przypada na około 15,000 - 20,000. Powyżej tej wartości liczba samochodów spada znacząco, a w przedziałach cenowych powyżej 40,000 liczba samochodów jest bardzo mała. Praktycznie brak samochodów jest widoczny powyżej 60,000.\n",
        "\n",
        "**Samochody z silnikiem diesela**\n",
        "\n",
        "Rozkład cen dla samochodów z silnikiem diesela jest podobny do rozkładu dla samochodów benzynowych. Najwięcej samochodów znajduje się w przedziale cenowym od 0 do 20,000, ze szczytem w okolicach 10,000 - 20,000. Powyżej tej wartości liczba samochodów gwałtownie maleje. W przedziałach cenowych powyżej 40,000 liczba samochodów jest bardzo mała, z praktycznym brakiem samochodów powyżej 60,000.\n"
      ],
      "metadata": {
        "id": "Ba_bfqxIAq4r"
      }
    },
    {
      "cell_type": "code",
      "source": [
        "fig, axes = plt.subplots(nrows = 1, ncols = 2, figsize = (16,5))\n",
        "\n",
        "axes[0].set_title('Samochody z silnikiem hybrydowym')\n",
        "axes[0].hist(data.loc[data['fuelType'] == 'Hybrid', 'price'], bins = 40, color = 'Navy')\n",
        "axes[0].set_xlabel('Cena')\n",
        "axes[0].set_ylabel('Ilość samochodów')\n",
        "\n",
        "axes[1].set_title('Samochody z silnikiem elektrycznym')\n",
        "axes[1].hist(data.loc[data['fuelType'] == 'Electric', 'price'], bins = 14, color = 'Green')\n",
        "axes[1].set_xlabel('Cena')\n",
        "axes[1].set_ylabel('Ilość samochodów')\n",
        "\n",
        "plt.show()"
      ],
      "metadata": {
        "id": "tlRCqHL9VSuo",
        "outputId": "d7b52ef4-8776-4ae5-ddde-0e553e773bd3",
        "colab": {
          "base_uri": "https://localhost:8080/",
          "height": 430
        }
      },
      "execution_count": 64,
      "outputs": [
        {
          "output_type": "display_data",
          "data": {
            "text/plain": [
              "<Figure size 1600x500 with 2 Axes>"
            ],
            "image/png": "[encoded data removed]"
          },
          "metadata": {}
        }
      ]
    },
    {
      "cell_type": "markdown",
      "source": [
        "**Samochody z silnikiem hybrydowym**\n",
        "\n",
        "Rozkład cen dla samochodów z silnikiem hybrydowym pokazuje, że najwięcej samochodów znajduje się w przedziale cenowym od 10,000 do 20,000, z najwyższym szczytem przypadającym na około 15,000 - 20,000. Powyżej tej wartości liczba samochodów spada, ale wciąż jest zauważalna obecność samochodów w wyższych przedziałach cenowych. Przedział cenowy od 30,000 do 70,000 również zawiera kilka samochodów, choć ich liczba jest znacznie mniejsza.\n",
        "\n",
        "**Samochody z silnikiem elektrycznym**\n",
        "\n",
        "Rozkład cen dla samochodów z silnikiem elektrycznym wykazuje trzy wyraźne skupiska cenowe. Pierwsze skupisko znajduje się w przedziale cenowym około 15,500, drugie około 17,500, a trzecie i największe skupisko znajduje się w okolicach 19,000. Rozkład ten obejmuje ceny od 15,500 do 19,000, z wyraźnymi trzema skupiskami, gdzie największa liczba samochodów znajduje się w najwyższym przedziale cenowym."
      ],
      "metadata": {
        "id": "nk8nlpwKChZc"
      }
    },
    {
      "cell_type": "markdown",
      "source": [
        "## Test rozkładu normalnego zmiennej *price*\n",
        "Test ten zostanie przeprowadzony dla każdego rodzaju silnika osobno z pominięciem silnika elektycznego z powodu braku danych.\n",
        "\n",
        "Hipotezy:\n",
        "- $H_0$ - wartości mają rozkład normalny\n",
        "- $H_1$ - wartości nie mają rozkładu normalnego\n",
        "\n",
        "Przyjęto α = 0.05"
      ],
      "metadata": {
        "id": "3DHfNozeUC7B"
      }
    },
    {
      "cell_type": "code",
      "source": [
        "data_petrol = data.loc[data['fuelType'] == 'Petrol']\n",
        "print('Dla samochodów spalinowych:',(shapiro(data_petrol['price'])))\n",
        "\n",
        "data_diesel = data.loc[data['fuelType'] == 'Diesel']\n",
        "print('Dla samochodów diesla:',(shapiro(data_diesel['price'])))\n",
        "\n",
        "data_hybrid = data.loc[data['fuelType'] == 'Hybrid']\n",
        "print('Dla samochodów hybrydowych:',(shapiro(data_hybrid['price'])))"
      ],
      "metadata": {
        "id": "JjlMP7lGi_n6",
        "outputId": "d906d3e8-e880-4cc5-e490-f2751437221a",
        "colab": {
          "base_uri": "https://localhost:8080/"
        }
      },
      "execution_count": 63,
      "outputs": [
        {
          "output_type": "stream",
          "name": "stdout",
          "text": [
            "Dla samochodów spalinowych: ShapiroResult(statistic=0.8168251514434814, pvalue=0.0)\n",
            "Dla samochodów diesla: ShapiroResult(statistic=0.871600866317749, pvalue=0.0)\n",
            "Dla samochodów hybrydowych: ShapiroResult(statistic=0.8654279112815857, pvalue=1.6815581571897805e-44)\n"
          ]
        }
      ]
    },
    {
      "cell_type": "markdown",
      "source": [
        "Dla wswzystkich przeprowadzonych testów otrzymaliśmy wynik $p<α$, przez co należy odrzucić hipotezę $H_0$ i przyjąć $H_1$, czyli uznać, że badane **dane nie mają rozkładu normalnego**.\n",
        "\n",
        "Po analizie wyżej zarysowanych histogramów można zauważyć, że rozkład wykazuje się asymetrią prawostronną i bardzo długim ogonem dla wartości większych od średniej."
      ],
      "metadata": {
        "id": "BeMD_8efRjWE"
      }
    },
    {
      "cell_type": "markdown",
      "source": [
        "## Model regresji liniowej\n"
      ],
      "metadata": {
        "id": "hjqWr1tnUNbC"
      }
    },
    {
      "cell_type": "markdown",
      "source": [
        "### Przygotowanie danych i badanie korelacji zniennych\n",
        "Aby rozpocząć budowę modelu regresji należy widzielić z ramki danych tylko kolumny z wartościami numerycznymi. Skorelowanie zmiennej *price*\n",
        "z pozostałymi zmiennymi prezentuje się następująco:"
      ],
      "metadata": {
        "id": "hrxitgzKZaCY"
      }
    },
    {
      "cell_type": "code",
      "source": [
        "data_num = data.select_dtypes(include = ['number'])\n",
        "data_num.head()"
      ],
      "metadata": {
        "id": "Htx59-haUzht",
        "outputId": "1bd622a0-922f-4001-92dc-e03898306273",
        "colab": {
          "base_uri": "https://localhost:8080/",
          "height": 206
        }
      },
      "execution_count": 47,
      "outputs": [
        {
          "output_type": "execute_result",
          "data": {
            "text/plain": [
              "   year  price  mileage    tax   mpg  engineSize\n",
              "0  2017  12500    15735  150.0  55.4         1.4\n",
              "1  2016  16500    36203   20.0  64.2         2.0\n",
              "2  2016  11000    29946   30.0  55.4         1.4\n",
              "3  2017  16800    25952  145.0  67.3         2.0\n",
              "4  2019  17300     1998  145.0  49.6         1.0"
            ],
            "text/html": [
              "\n",
              "  <div id=\"df-2b5f11ab-facb-48fe-9c80-0253666d3ba9\" class=\"colab-df-container\">\n",
              "    <div>\n",
              "<style scoped>\n",
              "    .dataframe tbody tr th:only-of-type {\n",
              "        vertical-align: middle;\n",
              "    }\n",
              "\n",
              "    .dataframe tbody tr th {\n",
              "        vertical-align: top;\n",
              "    }\n",
              "\n",
              "    .dataframe thead th {\n",
              "        text-align: right;\n",
              "    }\n",
              "</style>\n",
              "<table border=\"1\" class=\"dataframe\">\n",
              "  <thead>\n",
              "    <tr style=\"text-align: right;\">\n",
              "      <th></th>\n",
              "      <th>year</th>\n",
              "      <th>price</th>\n",
              "      <th>mileage</th>\n",
              "      <th>tax</th>\n",
              "      <th>mpg</th>\n",
              "      <th>engineSize</th>\n",
              "    </tr>\n",
              "  </thead>\n",
              "  <tbody>\n",
              "    <tr>\n",
              "      <th>0</th>\n",
              "      <td>2017</td>\n",
              "      <td>12500</td>\n",
              "      <td>15735</td>\n",
              "      <td>150.0</td>\n",
              "      <td>55.4</td>\n",
              "      <td>1.4</td>\n",
              "    </tr>\n",
              "    <tr>\n",
              "      <th>1</th>\n",
              "      <td>2016</td>\n",
              "      <td>16500</td>\n",
              "      <td>36203</td>\n",
              "      <td>20.0</td>\n",
              "      <td>64.2</td>\n",
              "      <td>2.0</td>\n",
              "    </tr>\n",
              "    <tr>\n",
              "      <th>2</th>\n",
              "      <td>2016</td>\n",
              "      <td>11000</td>\n",
              "      <td>29946</td>\n",
              "      <td>30.0</td>\n",
              "      <td>55.4</td>\n",
              "      <td>1.4</td>\n",
              "    </tr>\n",
              "    <tr>\n",
              "      <th>3</th>\n",
              "      <td>2017</td>\n",
              "      <td>16800</td>\n",
              "      <td>25952</td>\n",
              "      <td>145.0</td>\n",
              "      <td>67.3</td>\n",
              "      <td>2.0</td>\n",
              "    </tr>\n",
              "    <tr>\n",
              "      <th>4</th>\n",
              "      <td>2019</td>\n",
              "      <td>17300</td>\n",
              "      <td>1998</td>\n",
              "      <td>145.0</td>\n",
              "      <td>49.6</td>\n",
              "      <td>1.0</td>\n",
              "    </tr>\n",
              "  </tbody>\n",
              "</table>\n",
              "</div>\n",
              "    <div class=\"colab-df-buttons\">\n",
              "\n",
              "  <div class=\"colab-df-container\">\n",
              "    <button class=\"colab-df-convert\" onclick=\"convertToInteractive('df-2b5f11ab-facb-48fe-9c80-0253666d3ba9')\"\n",
              "            title=\"Convert this dataframe to an interactive table.\"\n",
              "            style=\"display:none;\">\n",
              "\n",
              "  <svg xmlns=\"http://www.w3.org/2000/svg\" height=\"24px\" viewBox=\"0 -960 960 960\">\n",
              "    <path d=\"M120-120v-720h720v720H120Zm60-500h600v-160H180v160Zm220 220h160v-160H400v160Zm0 220h160v-160H400v160ZM180-400h160v-160H180v160Zm440 0h160v-160H620v160ZM180-180h160v-160H180v160Zm440 0h160v-160H620v160Z\"/>\n",
              "  </svg>\n",
              "    </button>\n",
              "\n",
              "  <style>\n",
              "    .colab-df-container {\n",
              "      display:flex;\n",
              "      gap: 12px;\n",
              "    }\n",
              "\n",
              "    .colab-df-convert {\n",
              "      background-color: #E8F0FE;\n",
              "      border: none;\n",
              "      border-radius: 50%;\n",
              "      cursor: pointer;\n",
              "      display: none;\n",
              "      fill: #1967D2;\n",
              "      height: 32px;\n",
              "      padding: 0 0 0 0;\n",
              "      width: 32px;\n",
              "    }\n",
              "\n",
              "    .colab-df-convert:hover {\n",
              "      background-color: #E2EBFA;\n",
              "      box-shadow: 0px 1px 2px rgba(60, 64, 67, 0.3), 0px 1px 3px 1px rgba(60, 64, 67, 0.15);\n",
              "      fill: #174EA6;\n",
              "    }\n",
              "\n",
              "    .colab-df-buttons div {\n",
              "      margin-bottom: 4px;\n",
              "    }\n",
              "\n",
              "    [theme=dark] .colab-df-convert {\n",
              "      background-color: #3B4455;\n",
              "      fill: #D2E3FC;\n",
              "    }\n",
              "\n",
              "    [theme=dark] .colab-df-convert:hover {\n",
              "      background-color: #434B5C;\n",
              "      box-shadow: 0px 1px 3px 1px rgba(0, 0, 0, 0.15);\n",
              "      filter: drop-shadow(0px 1px 2px rgba(0, 0, 0, 0.3));\n",
              "      fill: #FFFFFF;\n",
              "    }\n",
              "  </style>\n",
              "\n",
              "    <script>\n",
              "      const buttonEl =\n",
              "        document.querySelector('#df-2b5f11ab-facb-48fe-9c80-0253666d3ba9 button.colab-df-convert');\n",
              "      buttonEl.style.display =\n",
              "        google.colab.kernel.accessAllowed ? 'block' : 'none';\n",
              "\n",
              "      async function convertToInteractive(key) {\n",
              "        const element = document.querySelector('#df-2b5f11ab-facb-48fe-9c80-0253666d3ba9');\n",
              "        const dataTable =\n",
              "          await google.colab.kernel.invokeFunction('convertToInteractive',\n",
              "                                                    [key], {});\n",
              "        if (!dataTable) return;\n",
              "\n",
              "        const docLinkHtml = 'Like what you see? Visit the ' +\n",
              "          '<a target=\"_blank\" href=https://colab.research.google.com/notebooks/data_table.ipynb>data table notebook</a>'\n",
              "          + ' to learn more about interactive tables.';\n",
              "        element.innerHTML = '';\n",
              "        dataTable['output_type'] = 'display_data';\n",
              "        await google.colab.output.renderOutput(dataTable, element);\n",
              "        const docLink = document.createElement('div');\n",
              "        docLink.innerHTML = docLinkHtml;\n",
              "        element.appendChild(docLink);\n",
              "      }\n",
              "    </script>\n",
              "  </div>\n",
              "\n",
              "\n",
              "<div id=\"df-532048a4-761b-458d-bd24-8777f8f1ae2b\">\n",
              "  <button class=\"colab-df-quickchart\" onclick=\"quickchart('df-532048a4-761b-458d-bd24-8777f8f1ae2b')\"\n",
              "            title=\"Suggest charts\"\n",
              "            style=\"display:none;\">\n",
              "\n",
              "<svg xmlns=\"http://www.w3.org/2000/svg\" height=\"24px\"viewBox=\"0 0 24 24\"\n",
              "     width=\"24px\">\n",
              "    <g>\n",
              "        <path d=\"M19 3H5c-1.1 0-2 .9-2 2v14c0 1.1.9 2 2 2h14c1.1 0 2-.9 2-2V5c0-1.1-.9-2-2-2zM9 17H7v-7h2v7zm4 0h-2V7h2v10zm4 0h-2v-4h2v4z\"/>\n",
              "    </g>\n",
              "</svg>\n",
              "  </button>\n",
              "\n",
              "<style>\n",
              "  .colab-df-quickchart {\n",
              "      --bg-color: #E8F0FE;\n",
              "      --fill-color: #1967D2;\n",
              "      --hover-bg-color: #E2EBFA;\n",
              "      --hover-fill-color: #174EA6;\n",
              "      --disabled-fill-color: #AAA;\n",
              "      --disabled-bg-color: #DDD;\n",
              "  }\n",
              "\n",
              "  [theme=dark] .colab-df-quickchart {\n",
              "      --bg-color: #3B4455;\n",
              "      --fill-color: #D2E3FC;\n",
              "      --hover-bg-color: #434B5C;\n",
              "      --hover-fill-color: #FFFFFF;\n",
              "      --disabled-bg-color: #3B4455;\n",
              "      --disabled-fill-color: #666;\n",
              "  }\n",
              "\n",
              "  .colab-df-quickchart {\n",
              "    background-color: var(--bg-color);\n",
              "    border: none;\n",
              "    border-radius: 50%;\n",
              "    cursor: pointer;\n",
              "    display: none;\n",
              "    fill: var(--fill-color);\n",
              "    height: 32px;\n",
              "    padding: 0;\n",
              "    width: 32px;\n",
              "  }\n",
              "\n",
              "  .colab-df-quickchart:hover {\n",
              "    background-color: var(--hover-bg-color);\n",
              "    box-shadow: 0 1px 2px rgba(60, 64, 67, 0.3), 0 1px 3px 1px rgba(60, 64, 67, 0.15);\n",
              "    fill: var(--button-hover-fill-color);\n",
              "  }\n",
              "\n",
              "  .colab-df-quickchart-complete:disabled,\n",
              "  .colab-df-quickchart-complete:disabled:hover {\n",
              "    background-color: var(--disabled-bg-color);\n",
              "    fill: var(--disabled-fill-color);\n",
              "    box-shadow: none;\n",
              "  }\n",
              "\n",
              "  .colab-df-spinner {\n",
              "    border: 2px solid var(--fill-color);\n",
              "    border-color: transparent;\n",
              "    border-bottom-color: var(--fill-color);\n",
              "    animation:\n",
              "      spin 1s steps(1) infinite;\n",
              "  }\n",
              "\n",
              "  @keyframes spin {\n",
              "    0% {\n",
              "      border-color: transparent;\n",
              "      border-bottom-color: var(--fill-color);\n",
              "      border-left-color: var(--fill-color);\n",
              "    }\n",
              "    20% {\n",
              "      border-color: transparent;\n",
              "      border-left-color: var(--fill-color);\n",
              "      border-top-color: var(--fill-color);\n",
              "    }\n",
              "    30% {\n",
              "      border-color: transparent;\n",
              "      border-left-color: var(--fill-color);\n",
              "      border-top-color: var(--fill-color);\n",
              "      border-right-color: var(--fill-color);\n",
              "    }\n",
              "    40% {\n",
              "      border-color: transparent;\n",
              "      border-right-color: var(--fill-color);\n",
              "      border-top-color: var(--fill-color);\n",
              "    }\n",
              "    60% {\n",
              "      border-color: transparent;\n",
              "      border-right-color: var(--fill-color);\n",
              "    }\n",
              "    80% {\n",
              "      border-color: transparent;\n",
              "      border-right-color: var(--fill-color);\n",
              "      border-bottom-color: var(--fill-color);\n",
              "    }\n",
              "    90% {\n",
              "      border-color: transparent;\n",
              "      border-bottom-color: var(--fill-color);\n",
              "    }\n",
              "  }\n",
              "</style>\n",
              "\n",
              "  <script>\n",
              "    async function quickchart(key) {\n",
              "      const quickchartButtonEl =\n",
              "        document.querySelector('#' + key + ' button');\n",
              "      quickchartButtonEl.disabled = true;  // To prevent multiple clicks.\n",
              "      quickchartButtonEl.classList.add('colab-df-spinner');\n",
              "      try {\n",
              "        const charts = await google.colab.kernel.invokeFunction(\n",
              "            'suggestCharts', [key], {});\n",
              "      } catch (error) {\n",
              "        console.error('Error during call to suggestCharts:', error);\n",
              "      }\n",
              "      quickchartButtonEl.classList.remove('colab-df-spinner');\n",
              "      quickchartButtonEl.classList.add('colab-df-quickchart-complete');\n",
              "    }\n",
              "    (() => {\n",
              "      let quickchartButtonEl =\n",
              "        document.querySelector('#df-532048a4-761b-458d-bd24-8777f8f1ae2b button');\n",
              "      quickchartButtonEl.style.display =\n",
              "        google.colab.kernel.accessAllowed ? 'block' : 'none';\n",
              "    })();\n",
              "  </script>\n",
              "</div>\n",
              "    </div>\n",
              "  </div>\n"
            ],
            "application/vnd.google.colaboratory.intrinsic+json": {
              "type": "dataframe",
              "variable_name": "data_num",
              "summary": "{\n  \"name\": \"data_num\",\n  \"rows\": 72435,\n  \"fields\": [\n    {\n      \"column\": \"year\",\n      \"properties\": {\n        \"dtype\": \"number\",\n        \"std\": 2,\n        \"min\": 1996,\n        \"max\": 2020,\n        \"num_unique_values\": 25,\n        \"samples\": [\n          2004,\n          2005,\n          2017\n        ],\n        \"semantic_type\": \"\",\n        \"description\": \"\"\n      }\n    },\n    {\n      \"column\": \"price\",\n      \"properties\": {\n        \"dtype\": \"number\",\n        \"std\": 9299,\n        \"min\": 495,\n        \"max\": 145000,\n        \"num_unique_values\": 10418,\n        \"samples\": [\n          36650,\n          22760,\n          13766\n        ],\n        \"semantic_type\": \"\",\n        \"description\": \"\"\n      }\n    },\n    {\n      \"column\": \"mileage\",\n      \"properties\": {\n        \"dtype\": \"number\",\n        \"std\": 21331,\n        \"min\": 1,\n        \"max\": 323000,\n        \"num_unique_values\": 35743,\n        \"samples\": [\n          38902,\n          18235,\n          11727\n        ],\n        \"semantic_type\": \"\",\n        \"description\": \"\"\n      }\n    },\n    {\n      \"column\": \"tax\",\n      \"properties\": {\n        \"dtype\": \"number\",\n        \"std\": 64.04553321509064,\n        \"min\": 0.0,\n        \"max\": 580.0,\n        \"num_unique_values\": 47,\n        \"samples\": [\n          115.0,\n          120.0,\n          195.0\n        ],\n        \"semantic_type\": \"\",\n        \"description\": \"\"\n      }\n    },\n    {\n      \"column\": \"mpg\",\n      \"properties\": {\n        \"dtype\": \"number\",\n        \"std\": 17.114390959529434,\n        \"min\": 0.3,\n        \"max\": 470.8,\n        \"num_unique_values\": 177,\n        \"samples\": [\n          50.4,\n          34.9,\n          28.0\n        ],\n        \"semantic_type\": \"\",\n        \"description\": \"\"\n      }\n    },\n    {\n      \"column\": \"engineSize\",\n      \"properties\": {\n        \"dtype\": \"number\",\n        \"std\": 0.5615348731098645,\n        \"min\": 0.0,\n        \"max\": 6.6,\n        \"num_unique_values\": 32,\n        \"samples\": [\n          1.7,\n          0.0,\n          2.8\n        ],\n        \"semantic_type\": \"\",\n        \"description\": \"\"\n      }\n    }\n  ]\n}"
            }
          },
          "metadata": {},
          "execution_count": 47
        }
      ]
    },
    {
      "cell_type": "code",
      "source": [
        "data_num.corr()"
      ],
      "metadata": {
        "id": "qTEuHQmXVc5q",
        "outputId": "f1cd8661-0f1f-4a05-ea15-10311c15bc7f",
        "colab": {
          "base_uri": "https://localhost:8080/",
          "height": 237
        }
      },
      "execution_count": 48,
      "outputs": [
        {
          "output_type": "execute_result",
          "data": {
            "text/plain": [
              "                year     price   mileage       tax       mpg  engineSize\n",
              "year        1.000000  0.519459 -0.747270  0.244933 -0.144384   -0.028511\n",
              "price       0.519459  1.000000 -0.426925  0.353244 -0.334174    0.629251\n",
              "mileage    -0.747270 -0.426925  1.000000 -0.234098  0.179153    0.122965\n",
              "tax         0.244933  0.353244 -0.234098  1.000000 -0.423287    0.294148\n",
              "mpg        -0.144384 -0.334174  0.179153 -0.423287  1.000000   -0.282202\n",
              "engineSize -0.028511  0.629251  0.122965  0.294148 -0.282202    1.000000"
            ],
            "text/html": [
              "\n",
              "  <div id=\"df-adf5faaf-0e3f-4dc5-be79-f8d738df0d4a\" class=\"colab-df-container\">\n",
              "    <div>\n",
              "<style scoped>\n",
              "    .dataframe tbody tr th:only-of-type {\n",
              "        vertical-align: middle;\n",
              "    }\n",
              "\n",
              "    .dataframe tbody tr th {\n",
              "        vertical-align: top;\n",
              "    }\n",
              "\n",
              "    .dataframe thead th {\n",
              "        text-align: right;\n",
              "    }\n",
              "</style>\n",
              "<table border=\"1\" class=\"dataframe\">\n",
              "  <thead>\n",
              "    <tr style=\"text-align: right;\">\n",
              "      <th></th>\n",
              "      <th>year</th>\n",
              "      <th>price</th>\n",
              "      <th>mileage</th>\n",
              "      <th>tax</th>\n",
              "      <th>mpg</th>\n",
              "      <th>engineSize</th>\n",
              "    </tr>\n",
              "  </thead>\n",
              "  <tbody>\n",
              "    <tr>\n",
              "      <th>year</th>\n",
              "      <td>1.000000</td>\n",
              "      <td>0.519459</td>\n",
              "      <td>-0.747270</td>\n",
              "      <td>0.244933</td>\n",
              "      <td>-0.144384</td>\n",
              "      <td>-0.028511</td>\n",
              "    </tr>\n",
              "    <tr>\n",
              "      <th>price</th>\n",
              "      <td>0.519459</td>\n",
              "      <td>1.000000</td>\n",
              "      <td>-0.426925</td>\n",
              "      <td>0.353244</td>\n",
              "      <td>-0.334174</td>\n",
              "      <td>0.629251</td>\n",
              "    </tr>\n",
              "    <tr>\n",
              "      <th>mileage</th>\n",
              "      <td>-0.747270</td>\n",
              "      <td>-0.426925</td>\n",
              "      <td>1.000000</td>\n",
              "      <td>-0.234098</td>\n",
              "      <td>0.179153</td>\n",
              "      <td>0.122965</td>\n",
              "    </tr>\n",
              "    <tr>\n",
              "      <th>tax</th>\n",
              "      <td>0.244933</td>\n",
              "      <td>0.353244</td>\n",
              "      <td>-0.234098</td>\n",
              "      <td>1.000000</td>\n",
              "      <td>-0.423287</td>\n",
              "      <td>0.294148</td>\n",
              "    </tr>\n",
              "    <tr>\n",
              "      <th>mpg</th>\n",
              "      <td>-0.144384</td>\n",
              "      <td>-0.334174</td>\n",
              "      <td>0.179153</td>\n",
              "      <td>-0.423287</td>\n",
              "      <td>1.000000</td>\n",
              "      <td>-0.282202</td>\n",
              "    </tr>\n",
              "    <tr>\n",
              "      <th>engineSize</th>\n",
              "      <td>-0.028511</td>\n",
              "      <td>0.629251</td>\n",
              "      <td>0.122965</td>\n",
              "      <td>0.294148</td>\n",
              "      <td>-0.282202</td>\n",
              "      <td>1.000000</td>\n",
              "    </tr>\n",
              "  </tbody>\n",
              "</table>\n",
              "</div>\n",
              "    <div class=\"colab-df-buttons\">\n",
              "\n",
              "  <div class=\"colab-df-container\">\n",
              "    <button class=\"colab-df-convert\" onclick=\"convertToInteractive('df-adf5faaf-0e3f-4dc5-be79-f8d738df0d4a')\"\n",
              "            title=\"Convert this dataframe to an interactive table.\"\n",
              "            style=\"display:none;\">\n",
              "\n",
              "  <svg xmlns=\"http://www.w3.org/2000/svg\" height=\"24px\" viewBox=\"0 -960 960 960\">\n",
              "    <path d=\"M120-120v-720h720v720H120Zm60-500h600v-160H180v160Zm220 220h160v-160H400v160Zm0 220h160v-160H400v160ZM180-400h160v-160H180v160Zm440 0h160v-160H620v160ZM180-180h160v-160H180v160Zm440 0h160v-160H620v160Z\"/>\n",
              "  </svg>\n",
              "    </button>\n",
              "\n",
              "  <style>\n",
              "    .colab-df-container {\n",
              "      display:flex;\n",
              "      gap: 12px;\n",
              "    }\n",
              "\n",
              "    .colab-df-convert {\n",
              "      background-color: #E8F0FE;\n",
              "      border: none;\n",
              "      border-radius: 50%;\n",
              "      cursor: pointer;\n",
              "      display: none;\n",
              "      fill: #1967D2;\n",
              "      height: 32px;\n",
              "      padding: 0 0 0 0;\n",
              "      width: 32px;\n",
              "    }\n",
              "\n",
              "    .colab-df-convert:hover {\n",
              "      background-color: #E2EBFA;\n",
              "      box-shadow: 0px 1px 2px rgba(60, 64, 67, 0.3), 0px 1px 3px 1px rgba(60, 64, 67, 0.15);\n",
              "      fill: #174EA6;\n",
              "    }\n",
              "\n",
              "    .colab-df-buttons div {\n",
              "      margin-bottom: 4px;\n",
              "    }\n",
              "\n",
              "    [theme=dark] .colab-df-convert {\n",
              "      background-color: #3B4455;\n",
              "      fill: #D2E3FC;\n",
              "    }\n",
              "\n",
              "    [theme=dark] .colab-df-convert:hover {\n",
              "      background-color: #434B5C;\n",
              "      box-shadow: 0px 1px 3px 1px rgba(0, 0, 0, 0.15);\n",
              "      filter: drop-shadow(0px 1px 2px rgba(0, 0, 0, 0.3));\n",
              "      fill: #FFFFFF;\n",
              "    }\n",
              "  </style>\n",
              "\n",
              "    <script>\n",
              "      const buttonEl =\n",
              "        document.querySelector('#df-adf5faaf-0e3f-4dc5-be79-f8d738df0d4a button.colab-df-convert');\n",
              "      buttonEl.style.display =\n",
              "        google.colab.kernel.accessAllowed ? 'block' : 'none';\n",
              "\n",
              "      async function convertToInteractive(key) {\n",
              "        const element = document.querySelector('#df-adf5faaf-0e3f-4dc5-be79-f8d738df0d4a');\n",
              "        const dataTable =\n",
              "          await google.colab.kernel.invokeFunction('convertToInteractive',\n",
              "                                                    [key], {});\n",
              "        if (!dataTable) return;\n",
              "\n",
              "        const docLinkHtml = 'Like what you see? Visit the ' +\n",
              "          '<a target=\"_blank\" href=https://colab.research.google.com/notebooks/data_table.ipynb>data table notebook</a>'\n",
              "          + ' to learn more about interactive tables.';\n",
              "        element.innerHTML = '';\n",
              "        dataTable['output_type'] = 'display_data';\n",
              "        await google.colab.output.renderOutput(dataTable, element);\n",
              "        const docLink = document.createElement('div');\n",
              "        docLink.innerHTML = docLinkHtml;\n",
              "        element.appendChild(docLink);\n",
              "      }\n",
              "    </script>\n",
              "  </div>\n",
              "\n",
              "\n",
              "<div id=\"df-4d504ec1-3185-4b8c-8e53-cceb0f374af6\">\n",
              "  <button class=\"colab-df-quickchart\" onclick=\"quickchart('df-4d504ec1-3185-4b8c-8e53-cceb0f374af6')\"\n",
              "            title=\"Suggest charts\"\n",
              "            style=\"display:none;\">\n",
              "\n",
              "<svg xmlns=\"http://www.w3.org/2000/svg\" height=\"24px\"viewBox=\"0 0 24 24\"\n",
              "     width=\"24px\">\n",
              "    <g>\n",
              "        <path d=\"M19 3H5c-1.1 0-2 .9-2 2v14c0 1.1.9 2 2 2h14c1.1 0 2-.9 2-2V5c0-1.1-.9-2-2-2zM9 17H7v-7h2v7zm4 0h-2V7h2v10zm4 0h-2v-4h2v4z\"/>\n",
              "    </g>\n",
              "</svg>\n",
              "  </button>\n",
              "\n",
              "<style>\n",
              "  .colab-df-quickchart {\n",
              "      --bg-color: #E8F0FE;\n",
              "      --fill-color: #1967D2;\n",
              "      --hover-bg-color: #E2EBFA;\n",
              "      --hover-fill-color: #174EA6;\n",
              "      --disabled-fill-color: #AAA;\n",
              "      --disabled-bg-color: #DDD;\n",
              "  }\n",
              "\n",
              "  [theme=dark] .colab-df-quickchart {\n",
              "      --bg-color: #3B4455;\n",
              "      --fill-color: #D2E3FC;\n",
              "      --hover-bg-color: #434B5C;\n",
              "      --hover-fill-color: #FFFFFF;\n",
              "      --disabled-bg-color: #3B4455;\n",
              "      --disabled-fill-color: #666;\n",
              "  }\n",
              "\n",
              "  .colab-df-quickchart {\n",
              "    background-color: var(--bg-color);\n",
              "    border: none;\n",
              "    border-radius: 50%;\n",
              "    cursor: pointer;\n",
              "    display: none;\n",
              "    fill: var(--fill-color);\n",
              "    height: 32px;\n",
              "    padding: 0;\n",
              "    width: 32px;\n",
              "  }\n",
              "\n",
              "  .colab-df-quickchart:hover {\n",
              "    background-color: var(--hover-bg-color);\n",
              "    box-shadow: 0 1px 2px rgba(60, 64, 67, 0.3), 0 1px 3px 1px rgba(60, 64, 67, 0.15);\n",
              "    fill: var(--button-hover-fill-color);\n",
              "  }\n",
              "\n",
              "  .colab-df-quickchart-complete:disabled,\n",
              "  .colab-df-quickchart-complete:disabled:hover {\n",
              "    background-color: var(--disabled-bg-color);\n",
              "    fill: var(--disabled-fill-color);\n",
              "    box-shadow: none;\n",
              "  }\n",
              "\n",
              "  .colab-df-spinner {\n",
              "    border: 2px solid var(--fill-color);\n",
              "    border-color: transparent;\n",
              "    border-bottom-color: var(--fill-color);\n",
              "    animation:\n",
              "      spin 1s steps(1) infinite;\n",
              "  }\n",
              "\n",
              "  @keyframes spin {\n",
              "    0% {\n",
              "      border-color: transparent;\n",
              "      border-bottom-color: var(--fill-color);\n",
              "      border-left-color: var(--fill-color);\n",
              "    }\n",
              "    20% {\n",
              "      border-color: transparent;\n",
              "      border-left-color: var(--fill-color);\n",
              "      border-top-color: var(--fill-color);\n",
              "    }\n",
              "    30% {\n",
              "      border-color: transparent;\n",
              "      border-left-color: var(--fill-color);\n",
              "      border-top-color: var(--fill-color);\n",
              "      border-right-color: var(--fill-color);\n",
              "    }\n",
              "    40% {\n",
              "      border-color: transparent;\n",
              "      border-right-color: var(--fill-color);\n",
              "      border-top-color: var(--fill-color);\n",
              "    }\n",
              "    60% {\n",
              "      border-color: transparent;\n",
              "      border-right-color: var(--fill-color);\n",
              "    }\n",
              "    80% {\n",
              "      border-color: transparent;\n",
              "      border-right-color: var(--fill-color);\n",
              "      border-bottom-color: var(--fill-color);\n",
              "    }\n",
              "    90% {\n",
              "      border-color: transparent;\n",
              "      border-bottom-color: var(--fill-color);\n",
              "    }\n",
              "  }\n",
              "</style>\n",
              "\n",
              "  <script>\n",
              "    async function quickchart(key) {\n",
              "      const quickchartButtonEl =\n",
              "        document.querySelector('#' + key + ' button');\n",
              "      quickchartButtonEl.disabled = true;  // To prevent multiple clicks.\n",
              "      quickchartButtonEl.classList.add('colab-df-spinner');\n",
              "      try {\n",
              "        const charts = await google.colab.kernel.invokeFunction(\n",
              "            'suggestCharts', [key], {});\n",
              "      } catch (error) {\n",
              "        console.error('Error during call to suggestCharts:', error);\n",
              "      }\n",
              "      quickchartButtonEl.classList.remove('colab-df-spinner');\n",
              "      quickchartButtonEl.classList.add('colab-df-quickchart-complete');\n",
              "    }\n",
              "    (() => {\n",
              "      let quickchartButtonEl =\n",
              "        document.querySelector('#df-4d504ec1-3185-4b8c-8e53-cceb0f374af6 button');\n",
              "      quickchartButtonEl.style.display =\n",
              "        google.colab.kernel.accessAllowed ? 'block' : 'none';\n",
              "    })();\n",
              "  </script>\n",
              "</div>\n",
              "    </div>\n",
              "  </div>\n"
            ],
            "application/vnd.google.colaboratory.intrinsic+json": {
              "type": "dataframe",
              "summary": "{\n  \"name\": \"data_num\",\n  \"rows\": 6,\n  \"fields\": [\n    {\n      \"column\": \"year\",\n      \"properties\": {\n        \"dtype\": \"number\",\n        \"std\": 0.5985172946475517,\n        \"min\": -0.7472698306586728,\n        \"max\": 1.0,\n        \"num_unique_values\": 6,\n        \"samples\": [\n          1.0,\n          0.5194588087078607,\n          -0.02851081929195552\n        ],\n        \"semantic_type\": \"\",\n        \"description\": \"\"\n      }\n    },\n    {\n      \"column\": \"price\",\n      \"properties\": {\n        \"dtype\": \"number\",\n        \"std\": 0.5620348665357839,\n        \"min\": -0.4269248566347517,\n        \"max\": 1.0,\n        \"num_unique_values\": 6,\n        \"samples\": [\n          0.5194588087078607,\n          1.0,\n          0.6292506912720452\n        ],\n        \"semantic_type\": \"\",\n        \"description\": \"\"\n      }\n    },\n    {\n      \"column\": \"mileage\",\n      \"properties\": {\n        \"dtype\": \"number\",\n        \"std\": 0.6067645371837254,\n        \"min\": -0.7472698306586728,\n        \"max\": 1.0,\n        \"num_unique_values\": 6,\n        \"samples\": [\n          -0.7472698306586728,\n          -0.4269248566347517,\n          0.12296515890691499\n        ],\n        \"semantic_type\": \"\",\n        \"description\": \"\"\n      }\n    },\n    {\n      \"column\": \"tax\",\n      \"properties\": {\n        \"dtype\": \"number\",\n        \"std\": 0.5002180283166605,\n        \"min\": -0.42328667222888183,\n        \"max\": 1.0,\n        \"num_unique_values\": 6,\n        \"samples\": [\n          0.24493281252406304,\n          0.3532444431238633,\n          0.29414823603093426\n        ],\n        \"semantic_type\": \"\",\n        \"description\": \"\"\n      }\n    },\n    {\n      \"column\": \"mpg\",\n      \"properties\": {\n        \"dtype\": \"number\",\n        \"std\": 0.533557832681221,\n        \"min\": -0.42328667222888183,\n        \"max\": 1.0,\n        \"num_unique_values\": 6,\n        \"samples\": [\n          -0.14438390725762937,\n          -0.334173527104006,\n          -0.2822018692847306\n        ],\n        \"semantic_type\": \"\",\n        \"description\": \"\"\n      }\n    },\n    {\n      \"column\": \"engineSize\",\n      \"properties\": {\n        \"dtype\": \"number\",\n        \"std\": 0.46389004020887026,\n        \"min\": -0.2822018692847306,\n        \"max\": 1.0,\n        \"num_unique_values\": 6,\n        \"samples\": [\n          -0.02851081929195552,\n          0.6292506912720452,\n          1.0\n        ],\n        \"semantic_type\": \"\",\n        \"description\": \"\"\n      }\n    }\n  ]\n}"
            }
          },
          "metadata": {},
          "execution_count": 48
        }
      ]
    },
    {
      "cell_type": "code",
      "source": [
        "plt.figure(figsize= (8,6))\n",
        "ax = sns.heatmap(data_num.corr(),\n",
        "                 xticklabels=data_num.corr().columns,\n",
        "                 yticklabels=data_num.corr().columns,\n",
        "                 cmap='bwr',\n",
        "                 vmin=-1, vmax=1, # zakres kolorystyczny dla korelacji od -1 do 1\n",
        "                 annot=True, center=0)\n",
        "\n",
        "plt.title('Macierz korelacji', fontsize=14)\n",
        "bottom, top = ax.get_ylim()\n",
        "\n",
        "plt.show()"
      ],
      "metadata": {
        "id": "7hjdwA2-dAMn",
        "outputId": "27466e2f-594f-4798-eff5-42cf558f729a",
        "colab": {
          "base_uri": "https://localhost:8080/",
          "height": 546
        }
      },
      "execution_count": 49,
      "outputs": [
        {
          "output_type": "display_data",
          "data": {
            "text/plain": [
              "<Figure size 800x600 with 2 Axes>"
            ],
            "image/png": "[encoded data removed]"
          },
          "metadata": {}
        }
      ]
    },
    {
      "cell_type": "markdown",
      "source": [
        "Zmienna *price* jest skorelowana dodatnio z kolumnami:\n",
        "- *year* - rokiem produkcji samochodu → nowsze auto = droższe auto\n",
        "- *tax* - == CO TO JEST ==\n",
        "- *engineSize* - wielkością silnika → większy silnik = większa cena samochodu\n",
        "\n",
        "Natomiast korelacja ujemna następuje dla:\n",
        "- *mileage* - ilością przejechanych mil → większe zużycie = mniejsza cena\n",
        "- *mpg* - ilością spalanych litrów paliwa na milę → większe spalanie = mniejsza cena"
      ],
      "metadata": {
        "id": "5sgzoiU9WPPe"
      }
    },
    {
      "cell_type": "markdown",
      "source": [
        "Podzieliliśmy zbiór danych na zbiór treningowy i testowy w stosunku 80% do 20%"
      ],
      "metadata": {
        "id": "fi1SocbAXyo0"
      }
    },
    {
      "cell_type": "code",
      "source": [
        "# X - zmienne objaśniające\n",
        "X = data_num[['year', 'mileage', 'tax', 'mpg', 'engineSize']]\n",
        "# Y - zmienna objaśniana\n",
        "Y = data_num[['price']];\n",
        "print(X.shape)\n",
        "print(Y.shape)"
      ],
      "metadata": {
        "id": "vb5Qbv3eWW01",
        "outputId": "80755483-f1fb-4fae-e82d-0caa0b09dbfe",
        "colab": {
          "base_uri": "https://localhost:8080/"
        }
      },
      "execution_count": 50,
      "outputs": [
        {
          "output_type": "stream",
          "name": "stdout",
          "text": [
            "(72435, 5)\n",
            "(72435, 1)\n"
          ]
        }
      ]
    },
    {
      "cell_type": "code",
      "source": [
        "X_train, X_test, Y_train, Y_test = train_test_split(X, Y, test_size = 0.20, random_state = 42)\n",
        "for subset in [X, Y, X_train, Y_train, X_test, Y_test]:\n",
        "    print(subset.shape)"
      ],
      "metadata": {
        "id": "7AbpXNlXY79T",
        "outputId": "5c5e400e-e265-45b0-dc00-f28b5e01de1d",
        "colab": {
          "base_uri": "https://localhost:8080/"
        }
      },
      "execution_count": 51,
      "outputs": [
        {
          "output_type": "stream",
          "name": "stdout",
          "text": [
            "(72435, 5)\n",
            "(72435, 1)\n",
            "(57948, 5)\n",
            "(57948, 1)\n",
            "(14487, 5)\n",
            "(14487, 1)\n"
          ]
        }
      ]
    },
    {
      "cell_type": "code",
      "source": [
        "# Test czy rzeczywiście to jest 20%\n",
        "14487/72435"
      ],
      "metadata": {
        "id": "0lC0zbiPZKE4",
        "outputId": "7ad58a04-22a0-4ca6-e57d-25b4c23f765a",
        "colab": {
          "base_uri": "https://localhost:8080/"
        }
      },
      "execution_count": 52,
      "outputs": [
        {
          "output_type": "execute_result",
          "data": {
            "text/plain": [
              "0.2"
            ]
          },
          "metadata": {},
          "execution_count": 52
        }
      ]
    },
    {
      "cell_type": "markdown",
      "source": [
        "### Budowa modelu regresji liniowej wielu zmiennych\n",
        "Model na podstawie wcześniej podzielonych danych prezentuje się następująco:"
      ],
      "metadata": {
        "id": "pIDNLnQnZfhx"
      }
    },
    {
      "cell_type": "code",
      "source": [
        "model = LinearRegression()\n",
        "model.fit(X_train, Y_train)\n",
        "print(model.coef_)\n",
        "print(model.intercept_)"
      ],
      "metadata": {
        "id": "xyIBTE1OZrKQ",
        "outputId": "2230bdd8-70ea-4451-8a8a-8663c36a2d50",
        "colab": {
          "base_uri": "https://localhost:8080/"
        }
      },
      "execution_count": 53,
      "outputs": [
        {
          "output_type": "stream",
          "name": "stdout",
          "text": [
            "[[ 1.58336670e+03 -1.01105510e-01 -8.24430122e-01 -3.25733308e+01\n",
            "   1.08199401e+04]]\n",
            "[-3190639.12194754]\n"
          ]
        }
      ]
    },
    {
      "cell_type": "markdown",
      "source": [
        "Co zapisane w bardziej przystępny sposób ma formę:\n",
        "$1583.3667 * year - 0.1011 * mileage - 0.8244 * tax - 0.3257 * mpg + 1081.9940 * engineSize - 3190639.1219$"
      ],
      "metadata": {
        "id": "FJSZxJ-eaICs"
      }
    },
    {
      "cell_type": "markdown",
      "source": [
        "### Ocena modelu\n",
        "Sprawdzenie metryk $r^2$, *MAE*, *MSE*, *RMSE* , celem określenia zgodności modelu."
      ],
      "metadata": {
        "id": "LxofCXaNcIGy"
      }
    },
    {
      "cell_type": "code",
      "source": [
        "# Tworzenie predykcji\n",
        "Y_predict_train = model.predict(X_train)\n",
        "Y_predict_test = model.predict(X_test)\n",
        "\n",
        "# Obliczanie wartości testów\n",
        "R2_train = r2_score(y_true = Y_train, y_pred = Y_predict_train)\n",
        "R2_test = r2_score(y_true = Y_test, y_pred = Y_predict_test)\n",
        "\n",
        "MAE_train = mean_absolute_error(y_true = Y_train, y_pred = Y_predict_train)\n",
        "MAE_test = mean_absolute_error(y_true = Y_test, y_pred = Y_predict_test)\n",
        "\n",
        "MSE_train = mean_squared_error(y_true = Y_train, y_pred = Y_predict_train)\n",
        "MSE_test = mean_squared_error(y_true = Y_test, y_pred = Y_predict_test)\n",
        "\n",
        "RMSE_train = mean_squared_error(y_true = Y_train, y_pred = Y_predict_train, squared = False)\n",
        "RMSE_test = mean_squared_error(y_true = Y_test, y_pred = Y_predict_test, squared = False)\n",
        "\n",
        "print(f'''R2_train = {R2_train},     R2_test = {R2_test},\n",
        "MAE_train = {MAE_train},    MAE_test = {MAE_test},\n",
        "MSE_train = {MSE_train},    MSE_test = {MSE_test},\n",
        "RMSE_train = {RMSE_train},    RMSE_test = {RMSE_test} ''')"
      ],
      "metadata": {
        "id": "QKVOBoE8cCxk",
        "outputId": "9b316045-d1d5-4f59-9e65-994fbdc0fa65",
        "colab": {
          "base_uri": "https://localhost:8080/"
        }
      },
      "execution_count": 54,
      "outputs": [
        {
          "output_type": "stream",
          "name": "stdout",
          "text": [
            "R2_train = 0.7138343732781927,     R2_test = 0.7103247849821693,\n",
            "MAE_train = 3321.7228120651166,    MAE_test = 3327.392142953494,\n",
            "MSE_train = 24588877.814090844,    MSE_test = 25677730.77508134,\n",
            "RMSE_train = 4958.717355737353,    RMSE_test = 5067.319880872071 \n"
          ]
        }
      ]
    },
    {
      "cell_type": "markdown",
      "source": [
        "Stworzony model daje podobne wyniki testów dla obydwu zbiorów, co umożliwia nam stwierdzenie, że **model jest dobrze dopasowany**. Dość duże wartości Mean Absolute Error oraz pochodnych testów wynikają z wysokich wartości zmiennej objaśnianej i są zwiększane poprzez właśnie podniesienie dużej liczby do potęgi w kolejnych testach (Mean of the Square of Errors oraz Root of Mean of the Square of Errors)"
      ],
      "metadata": {
        "id": "z2RA8dYDeudR"
      }
    },
    {
      "cell_type": "markdown",
      "source": [
        "## Podsumowanie\n"
      ],
      "metadata": {
        "id": "6LyryY8uhzlA"
      }
    }
  ]
}